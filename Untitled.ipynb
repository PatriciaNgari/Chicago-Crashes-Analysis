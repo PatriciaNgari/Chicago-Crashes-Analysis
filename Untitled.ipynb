{
 "cells": [
  {
   "cell_type": "markdown",
   "id": "31731798-011d-486a-92ac-b3935c940ffa",
   "metadata": {},
   "source": [
    "<img src=\"./Chicago_image.jpg\" style=\"width:100%; height:auto;\">"
   ]
  },
  {
   "cell_type": "code",
   "execution_count": 1,
   "id": "bca0cdd3-ed17-4c91-82e5-7a423fd498e3",
   "metadata": {},
   "outputs": [],
   "source": [
    "import pandas as pd\n",
    "people_df = pd.read_csv(\"Traffic_Crashes_-_People_20240824.csv\", low_memory=False)"
   ]
  },
  {
   "cell_type": "code",
   "execution_count": 2,
   "id": "bc4caf6b-1599-4fe8-b219-82f22cd75349",
   "metadata": {},
   "outputs": [
    {
     "data": {
      "text/html": [
       "<div>\n",
       "<style scoped>\n",
       "    .dataframe tbody tr th:only-of-type {\n",
       "        vertical-align: middle;\n",
       "    }\n",
       "\n",
       "    .dataframe tbody tr th {\n",
       "        vertical-align: top;\n",
       "    }\n",
       "\n",
       "    .dataframe thead th {\n",
       "        text-align: right;\n",
       "    }\n",
       "</style>\n",
       "<table border=\"1\" class=\"dataframe\">\n",
       "  <thead>\n",
       "    <tr style=\"text-align: right;\">\n",
       "      <th></th>\n",
       "      <th>PERSON_ID</th>\n",
       "      <th>PERSON_TYPE</th>\n",
       "      <th>CRASH_RECORD_ID</th>\n",
       "      <th>VEHICLE_ID</th>\n",
       "      <th>CRASH_DATE</th>\n",
       "      <th>SEAT_NO</th>\n",
       "      <th>CITY</th>\n",
       "      <th>STATE</th>\n",
       "      <th>ZIPCODE</th>\n",
       "      <th>SEX</th>\n",
       "      <th>...</th>\n",
       "      <th>EMS_RUN_NO</th>\n",
       "      <th>DRIVER_ACTION</th>\n",
       "      <th>DRIVER_VISION</th>\n",
       "      <th>PHYSICAL_CONDITION</th>\n",
       "      <th>PEDPEDAL_ACTION</th>\n",
       "      <th>PEDPEDAL_VISIBILITY</th>\n",
       "      <th>PEDPEDAL_LOCATION</th>\n",
       "      <th>BAC_RESULT</th>\n",
       "      <th>BAC_RESULT VALUE</th>\n",
       "      <th>CELL_PHONE_USE</th>\n",
       "    </tr>\n",
       "  </thead>\n",
       "  <tbody>\n",
       "    <tr>\n",
       "      <th>0</th>\n",
       "      <td>O749947</td>\n",
       "      <td>DRIVER</td>\n",
       "      <td>81dc0de2ed92aa62baccab641fa377be7feb1cc47e6554...</td>\n",
       "      <td>834816.0</td>\n",
       "      <td>09/28/2019 03:30:00 AM</td>\n",
       "      <td>NaN</td>\n",
       "      <td>CHICAGO</td>\n",
       "      <td>IL</td>\n",
       "      <td>60651</td>\n",
       "      <td>M</td>\n",
       "      <td>...</td>\n",
       "      <td>NaN</td>\n",
       "      <td>UNKNOWN</td>\n",
       "      <td>UNKNOWN</td>\n",
       "      <td>UNKNOWN</td>\n",
       "      <td>NaN</td>\n",
       "      <td>NaN</td>\n",
       "      <td>NaN</td>\n",
       "      <td>TEST NOT OFFERED</td>\n",
       "      <td>NaN</td>\n",
       "      <td>NaN</td>\n",
       "    </tr>\n",
       "    <tr>\n",
       "      <th>1</th>\n",
       "      <td>O871921</td>\n",
       "      <td>DRIVER</td>\n",
       "      <td>af84fb5c8d996fcd3aefd36593c3a02e6e7509eeb27568...</td>\n",
       "      <td>827212.0</td>\n",
       "      <td>04/13/2020 10:50:00 PM</td>\n",
       "      <td>NaN</td>\n",
       "      <td>CHICAGO</td>\n",
       "      <td>IL</td>\n",
       "      <td>60620</td>\n",
       "      <td>M</td>\n",
       "      <td>...</td>\n",
       "      <td>NaN</td>\n",
       "      <td>NONE</td>\n",
       "      <td>NOT OBSCURED</td>\n",
       "      <td>NORMAL</td>\n",
       "      <td>NaN</td>\n",
       "      <td>NaN</td>\n",
       "      <td>NaN</td>\n",
       "      <td>TEST NOT OFFERED</td>\n",
       "      <td>NaN</td>\n",
       "      <td>NaN</td>\n",
       "    </tr>\n",
       "  </tbody>\n",
       "</table>\n",
       "<p>2 rows × 29 columns</p>\n",
       "</div>"
      ],
      "text/plain": [
       "  PERSON_ID PERSON_TYPE                                    CRASH_RECORD_ID  \\\n",
       "0   O749947      DRIVER  81dc0de2ed92aa62baccab641fa377be7feb1cc47e6554...   \n",
       "1   O871921      DRIVER  af84fb5c8d996fcd3aefd36593c3a02e6e7509eeb27568...   \n",
       "\n",
       "   VEHICLE_ID              CRASH_DATE  SEAT_NO     CITY STATE ZIPCODE SEX  \\\n",
       "0    834816.0  09/28/2019 03:30:00 AM      NaN  CHICAGO    IL   60651   M   \n",
       "1    827212.0  04/13/2020 10:50:00 PM      NaN  CHICAGO    IL   60620   M   \n",
       "\n",
       "   ...  EMS_RUN_NO DRIVER_ACTION DRIVER_VISION PHYSICAL_CONDITION  \\\n",
       "0  ...         NaN       UNKNOWN       UNKNOWN            UNKNOWN   \n",
       "1  ...         NaN          NONE  NOT OBSCURED             NORMAL   \n",
       "\n",
       "  PEDPEDAL_ACTION PEDPEDAL_VISIBILITY PEDPEDAL_LOCATION        BAC_RESULT  \\\n",
       "0             NaN                 NaN               NaN  TEST NOT OFFERED   \n",
       "1             NaN                 NaN               NaN  TEST NOT OFFERED   \n",
       "\n",
       "  BAC_RESULT VALUE CELL_PHONE_USE  \n",
       "0              NaN            NaN  \n",
       "1              NaN            NaN  \n",
       "\n",
       "[2 rows x 29 columns]"
      ]
     },
     "execution_count": 2,
     "metadata": {},
     "output_type": "execute_result"
    }
   ],
   "source": [
    "people_df.head(2)"
   ]
  },
  {
   "cell_type": "code",
   "execution_count": 3,
   "id": "a073fc4f-dc6e-420a-a66d-585111bc4947",
   "metadata": {},
   "outputs": [
    {
     "data": {
      "text/html": [
       "<div>\n",
       "<style scoped>\n",
       "    .dataframe tbody tr th:only-of-type {\n",
       "        vertical-align: middle;\n",
       "    }\n",
       "\n",
       "    .dataframe tbody tr th {\n",
       "        vertical-align: top;\n",
       "    }\n",
       "\n",
       "    .dataframe thead th {\n",
       "        text-align: right;\n",
       "    }\n",
       "</style>\n",
       "<table border=\"1\" class=\"dataframe\">\n",
       "  <thead>\n",
       "    <tr style=\"text-align: right;\">\n",
       "      <th></th>\n",
       "      <th>CRASH_UNIT_ID</th>\n",
       "      <th>CRASH_RECORD_ID</th>\n",
       "      <th>CRASH_DATE</th>\n",
       "      <th>UNIT_NO</th>\n",
       "      <th>UNIT_TYPE</th>\n",
       "      <th>NUM_PASSENGERS</th>\n",
       "      <th>VEHICLE_ID</th>\n",
       "      <th>CMRC_VEH_I</th>\n",
       "      <th>MAKE</th>\n",
       "      <th>MODEL</th>\n",
       "      <th>...</th>\n",
       "      <th>TRAILER1_LENGTH</th>\n",
       "      <th>TRAILER2_LENGTH</th>\n",
       "      <th>TOTAL_VEHICLE_LENGTH</th>\n",
       "      <th>AXLE_CNT</th>\n",
       "      <th>VEHICLE_CONFIG</th>\n",
       "      <th>CARGO_BODY_TYPE</th>\n",
       "      <th>LOAD_TYPE</th>\n",
       "      <th>HAZMAT_OUT_OF_SERVICE_I</th>\n",
       "      <th>MCS_OUT_OF_SERVICE_I</th>\n",
       "      <th>HAZMAT_CLASS</th>\n",
       "    </tr>\n",
       "  </thead>\n",
       "  <tbody>\n",
       "    <tr>\n",
       "      <th>0</th>\n",
       "      <td>1727162</td>\n",
       "      <td>f5943b05f46b8d4148a63b7506a59113eae0cf1075aabc...</td>\n",
       "      <td>12/21/2023 08:57:00 AM</td>\n",
       "      <td>2</td>\n",
       "      <td>PEDESTRIAN</td>\n",
       "      <td>NaN</td>\n",
       "      <td>NaN</td>\n",
       "      <td>NaN</td>\n",
       "      <td>NaN</td>\n",
       "      <td>NaN</td>\n",
       "      <td>...</td>\n",
       "      <td>NaN</td>\n",
       "      <td>NaN</td>\n",
       "      <td>NaN</td>\n",
       "      <td>NaN</td>\n",
       "      <td>NaN</td>\n",
       "      <td>NaN</td>\n",
       "      <td>NaN</td>\n",
       "      <td>NaN</td>\n",
       "      <td>NaN</td>\n",
       "      <td>NaN</td>\n",
       "    </tr>\n",
       "    <tr>\n",
       "      <th>1</th>\n",
       "      <td>1717556</td>\n",
       "      <td>7b1763088507f77e0e552c009a6bf89a4d6330c7527706...</td>\n",
       "      <td>12/06/2023 03:24:00 PM</td>\n",
       "      <td>1</td>\n",
       "      <td>DRIVER</td>\n",
       "      <td>NaN</td>\n",
       "      <td>1634931.0</td>\n",
       "      <td>NaN</td>\n",
       "      <td>NISSAN</td>\n",
       "      <td>SENTRA</td>\n",
       "      <td>...</td>\n",
       "      <td>NaN</td>\n",
       "      <td>NaN</td>\n",
       "      <td>NaN</td>\n",
       "      <td>NaN</td>\n",
       "      <td>NaN</td>\n",
       "      <td>NaN</td>\n",
       "      <td>NaN</td>\n",
       "      <td>NaN</td>\n",
       "      <td>NaN</td>\n",
       "      <td>NaN</td>\n",
       "    </tr>\n",
       "  </tbody>\n",
       "</table>\n",
       "<p>2 rows × 71 columns</p>\n",
       "</div>"
      ],
      "text/plain": [
       "   CRASH_UNIT_ID                                    CRASH_RECORD_ID  \\\n",
       "0        1727162  f5943b05f46b8d4148a63b7506a59113eae0cf1075aabc...   \n",
       "1        1717556  7b1763088507f77e0e552c009a6bf89a4d6330c7527706...   \n",
       "\n",
       "               CRASH_DATE  UNIT_NO   UNIT_TYPE  NUM_PASSENGERS  VEHICLE_ID  \\\n",
       "0  12/21/2023 08:57:00 AM        2  PEDESTRIAN             NaN         NaN   \n",
       "1  12/06/2023 03:24:00 PM        1      DRIVER             NaN   1634931.0   \n",
       "\n",
       "  CMRC_VEH_I    MAKE   MODEL  ... TRAILER1_LENGTH  TRAILER2_LENGTH  \\\n",
       "0        NaN     NaN     NaN  ...             NaN              NaN   \n",
       "1        NaN  NISSAN  SENTRA  ...             NaN              NaN   \n",
       "\n",
       "  TOTAL_VEHICLE_LENGTH AXLE_CNT VEHICLE_CONFIG CARGO_BODY_TYPE LOAD_TYPE  \\\n",
       "0                  NaN      NaN            NaN             NaN       NaN   \n",
       "1                  NaN      NaN            NaN             NaN       NaN   \n",
       "\n",
       "  HAZMAT_OUT_OF_SERVICE_I MCS_OUT_OF_SERVICE_I  HAZMAT_CLASS  \n",
       "0                     NaN                  NaN           NaN  \n",
       "1                     NaN                  NaN           NaN  \n",
       "\n",
       "[2 rows x 71 columns]"
      ]
     },
     "execution_count": 3,
     "metadata": {},
     "output_type": "execute_result"
    }
   ],
   "source": [
    "vehicle_df = pd.read_csv(\"Traffic_Crashes_-_Vehicles_20240824.csv\", low_memory=False)\n",
    "vehicle_df.head(2)"
   ]
  },
  {
   "cell_type": "code",
   "execution_count": 4,
   "id": "bd552104-816d-47d1-87e4-26cd0a5e8026",
   "metadata": {},
   "outputs": [
    {
     "name": "stdout",
     "output_type": "stream",
     "text": [
      "['PERSON_ID', 'PERSON_TYPE', 'CRASH_RECORD_ID', 'VEHICLE_ID', 'CRASH_DATE', 'SEAT_NO', 'CITY', 'STATE', 'ZIPCODE', 'SEX', 'AGE', 'DRIVERS_LICENSE_STATE', 'DRIVERS_LICENSE_CLASS', 'SAFETY_EQUIPMENT', 'AIRBAG_DEPLOYED', 'EJECTION', 'INJURY_CLASSIFICATION', 'HOSPITAL', 'EMS_AGENCY', 'EMS_RUN_NO', 'DRIVER_ACTION', 'DRIVER_VISION', 'PHYSICAL_CONDITION', 'PEDPEDAL_ACTION', 'PEDPEDAL_VISIBILITY', 'PEDPEDAL_LOCATION', 'BAC_RESULT', 'BAC_RESULT VALUE', 'CELL_PHONE_USE']\n"
     ]
    }
   ],
   "source": [
    "columns_list = people_df.columns.tolist()\n",
    "print(columns_list)"
   ]
  },
  {
   "cell_type": "code",
   "execution_count": 5,
   "id": "0f9aec27-930f-4505-af1e-c9b7c2aa8e25",
   "metadata": {},
   "outputs": [
    {
     "name": "stdout",
     "output_type": "stream",
     "text": [
      "['CRASH_UNIT_ID', 'CRASH_RECORD_ID', 'CRASH_DATE', 'UNIT_NO', 'UNIT_TYPE', 'NUM_PASSENGERS', 'VEHICLE_ID', 'CMRC_VEH_I', 'MAKE', 'MODEL', 'LIC_PLATE_STATE', 'VEHICLE_YEAR', 'VEHICLE_DEFECT', 'VEHICLE_TYPE', 'VEHICLE_USE', 'TRAVEL_DIRECTION', 'MANEUVER', 'TOWED_I', 'FIRE_I', 'OCCUPANT_CNT', 'EXCEED_SPEED_LIMIT_I', 'TOWED_BY', 'TOWED_TO', 'AREA_00_I', 'AREA_01_I', 'AREA_02_I', 'AREA_03_I', 'AREA_04_I', 'AREA_05_I', 'AREA_06_I', 'AREA_07_I', 'AREA_08_I', 'AREA_09_I', 'AREA_10_I', 'AREA_11_I', 'AREA_12_I', 'AREA_99_I', 'FIRST_CONTACT_POINT', 'CMV_ID', 'USDOT_NO', 'CCMC_NO', 'ILCC_NO', 'COMMERCIAL_SRC', 'GVWR', 'CARRIER_NAME', 'CARRIER_STATE', 'CARRIER_CITY', 'HAZMAT_PLACARDS_I', 'HAZMAT_NAME', 'UN_NO', 'HAZMAT_PRESENT_I', 'HAZMAT_REPORT_I', 'HAZMAT_REPORT_NO', 'MCS_REPORT_I', 'MCS_REPORT_NO', 'HAZMAT_VIO_CAUSE_CRASH_I', 'MCS_VIO_CAUSE_CRASH_I', 'IDOT_PERMIT_NO', 'WIDE_LOAD_I', 'TRAILER1_WIDTH', 'TRAILER2_WIDTH', 'TRAILER1_LENGTH', 'TRAILER2_LENGTH', 'TOTAL_VEHICLE_LENGTH', 'AXLE_CNT', 'VEHICLE_CONFIG', 'CARGO_BODY_TYPE', 'LOAD_TYPE', 'HAZMAT_OUT_OF_SERVICE_I', 'MCS_OUT_OF_SERVICE_I', 'HAZMAT_CLASS']\n"
     ]
    }
   ],
   "source": [
    "columns_list2 = vehicle_df.columns.tolist()\n",
    "print(columns_list2)"
   ]
  },
  {
   "cell_type": "code",
   "execution_count": 6,
   "id": "2d139135-c490-4dbe-93e3-e162bbc3028f",
   "metadata": {},
   "outputs": [],
   "source": [
    "# df1_cols_to_drop = ['PERSON_ID', 'PERSON_TYPE', 'CRASH_RECORD_ID', 'VEHICLE_ID', 'CRASH_DATE', 'SEAT_NO', 'STATE', \n",
    "#                    'ZIPCODE', 'DRIVERS_LICENSE_STATE', 'HOSPITAL', 'EMS_AGENCY', 'EMS_RUN_NO', 'BAC_RESULT', 'BAC_RESULT VALUE']\n",
    "# df1_columns = df1.drop(df1_cols_to_drop, axis=1)\n",
    "# df1_columns.head()"
   ]
  },
  {
   "cell_type": "code",
   "execution_count": 7,
   "id": "594ed7da-f218-4062-8302-653c1d0e6e56",
   "metadata": {},
   "outputs": [],
   "source": [
    "# df2_columns_to_keep = ['UNIT_TYPE', 'MAKE', 'VEHICLE_YEAR', 'VEHICLE_DEFECT', 'VEHICLE_TYPE', 'TRAVEL_DIRECTION', 'MANEUVER', 'EXCEED_SPEED_LIMIT_I']\n",
    "# df2_columns = df2[df2_columns_to_keep]\n",
    "# df2_columns.head()"
   ]
  },
  {
   "cell_type": "code",
   "execution_count": 8,
   "id": "27655b36-ad62-4135-a84a-b48ad3ef1d59",
   "metadata": {},
   "outputs": [
    {
     "name": "stdout",
     "output_type": "stream",
     "text": [
      "['PERSON_ID', 'PERSON_TYPE', 'CRASH_RECORD_ID', 'VEHICLE_ID', 'CRASH_DATE', 'CITY', 'STATE', 'SEX', 'AGE', 'SAFETY_EQUIPMENT', 'AIRBAG_DEPLOYED', 'EJECTION', 'INJURY_CLASSIFICATION', 'DRIVER_ACTION', 'DRIVER_VISION', 'PHYSICAL_CONDITION', 'BAC_RESULT']\n"
     ]
    }
   ],
   "source": [
    "threshold = 0.3\n",
    "people_cleaned = people_df.dropna(thresh=int((1-threshold) * len(people_df)), axis=1)\n",
    "cols = people_cleaned.columns.tolist()\n",
    "print(cols)"
   ]
  },
  {
   "cell_type": "code",
   "execution_count": 9,
   "id": "2d10228b-200c-4cda-b860-ec4066f20aa9",
   "metadata": {},
   "outputs": [
    {
     "data": {
      "text/plain": [
       "BAC_RESULT\n",
       "TEST NOT OFFERED                   1492019\n",
       "TEST REFUSED                         15656\n",
       "TEST PERFORMED, RESULTS UNKNOWN       3618\n",
       "TEST TAKEN                            2673\n",
       "Name: count, dtype: int64"
      ]
     },
     "execution_count": 9,
     "metadata": {},
     "output_type": "execute_result"
    }
   ],
   "source": [
    "counts = people_df['BAC_RESULT'].value_counts()\n",
    "counts"
   ]
  },
  {
   "cell_type": "code",
   "execution_count": 10,
   "id": "f2d23ca4-16a3-427f-b5ba-654e284575c9",
   "metadata": {},
   "outputs": [
    {
     "name": "stdout",
     "output_type": "stream",
     "text": [
      "PERSON_ID                     0\n",
      "PERSON_TYPE                   0\n",
      "CRASH_RECORD_ID               0\n",
      "VEHICLE_ID                38536\n",
      "CRASH_DATE                    0\n",
      "CITY                     517816\n",
      "STATE                    496920\n",
      "SEX                       31921\n",
      "AGE                      554477\n",
      "SAFETY_EQUIPMENT           5284\n",
      "AIRBAG_DEPLOYED           37071\n",
      "EJECTION                  23665\n",
      "INJURY_CLASSIFICATION       740\n",
      "DRIVER_ACTION            388017\n",
      "DRIVER_VISION            388586\n",
      "PHYSICAL_CONDITION       386986\n",
      "BAC_RESULT               387067\n",
      "dtype: int64\n"
     ]
    }
   ],
   "source": [
    "null_values_sum = people_cleaned.isnull().sum()\n",
    "print(null_values_sum)"
   ]
  },
  {
   "cell_type": "code",
   "execution_count": 11,
   "id": "6e380243-6ffc-4778-a006-03867e18cc6f",
   "metadata": {},
   "outputs": [
    {
     "name": "stdout",
     "output_type": "stream",
     "text": [
      "['CRASH_UNIT_ID', 'CRASH_RECORD_ID', 'CRASH_DATE', 'UNIT_NO', 'UNIT_TYPE', 'VEHICLE_ID', 'MAKE', 'MODEL', 'LIC_PLATE_STATE', 'VEHICLE_YEAR', 'VEHICLE_DEFECT', 'VEHICLE_TYPE', 'VEHICLE_USE', 'TRAVEL_DIRECTION', 'MANEUVER', 'OCCUPANT_CNT', 'FIRST_CONTACT_POINT']\n"
     ]
    }
   ],
   "source": [
    "threshold = 0.3\n",
    "vehicle_cleaned = vehicle_df.dropna(thresh=int((1-threshold) * len(vehicle_df)), axis=1)\n",
    "cols2 = vehicle_cleaned.columns.tolist()\n",
    "print(cols2)"
   ]
  },
  {
   "cell_type": "code",
   "execution_count": 12,
   "id": "91619d09-07c0-416c-8e88-ea138619eb73",
   "metadata": {},
   "outputs": [
    {
     "data": {
      "text/plain": [
       "(1766075, 13)"
      ]
     },
     "execution_count": 12,
     "metadata": {},
     "output_type": "execute_result"
    }
   ],
   "source": [
    "columns_to_drop = ['UNIT_NO', 'OCCUPANT_CNT', 'FIRST_CONTACT_POINT', 'CRASH_RECORD_ID']\n",
    "vehicle_dropped = vehicle_cleaned.drop(columns_to_drop, axis=1)\n",
    "vehicle_dropped.shape"
   ]
  },
  {
   "cell_type": "code",
   "execution_count": 13,
   "id": "e0aeee6f-9398-4600-aac0-de3e8337e69e",
   "metadata": {},
   "outputs": [
    {
     "data": {
      "text/html": [
       "<div>\n",
       "<style scoped>\n",
       "    .dataframe tbody tr th:only-of-type {\n",
       "        vertical-align: middle;\n",
       "    }\n",
       "\n",
       "    .dataframe tbody tr th {\n",
       "        vertical-align: top;\n",
       "    }\n",
       "\n",
       "    .dataframe thead th {\n",
       "        text-align: right;\n",
       "    }\n",
       "</style>\n",
       "<table border=\"1\" class=\"dataframe\">\n",
       "  <thead>\n",
       "    <tr style=\"text-align: right;\">\n",
       "      <th></th>\n",
       "      <th>PERSON_TYPE</th>\n",
       "      <th>VEHICLE_ID</th>\n",
       "      <th>CITY</th>\n",
       "      <th>STATE</th>\n",
       "      <th>SEX</th>\n",
       "      <th>AGE</th>\n",
       "      <th>SAFETY_EQUIPMENT</th>\n",
       "      <th>AIRBAG_DEPLOYED</th>\n",
       "      <th>EJECTION</th>\n",
       "      <th>INJURY_CLASSIFICATION</th>\n",
       "      <th>DRIVER_ACTION</th>\n",
       "      <th>DRIVER_VISION</th>\n",
       "      <th>PHYSICAL_CONDITION</th>\n",
       "    </tr>\n",
       "  </thead>\n",
       "  <tbody>\n",
       "    <tr>\n",
       "      <th>0</th>\n",
       "      <td>DRIVER</td>\n",
       "      <td>834816.0</td>\n",
       "      <td>CHICAGO</td>\n",
       "      <td>IL</td>\n",
       "      <td>M</td>\n",
       "      <td>25.0</td>\n",
       "      <td>NONE PRESENT</td>\n",
       "      <td>DEPLOYMENT UNKNOWN</td>\n",
       "      <td>NONE</td>\n",
       "      <td>NO INDICATION OF INJURY</td>\n",
       "      <td>UNKNOWN</td>\n",
       "      <td>UNKNOWN</td>\n",
       "      <td>UNKNOWN</td>\n",
       "    </tr>\n",
       "    <tr>\n",
       "      <th>1</th>\n",
       "      <td>DRIVER</td>\n",
       "      <td>827212.0</td>\n",
       "      <td>CHICAGO</td>\n",
       "      <td>IL</td>\n",
       "      <td>M</td>\n",
       "      <td>37.0</td>\n",
       "      <td>SAFETY BELT USED</td>\n",
       "      <td>DID NOT DEPLOY</td>\n",
       "      <td>NONE</td>\n",
       "      <td>NO INDICATION OF INJURY</td>\n",
       "      <td>NONE</td>\n",
       "      <td>NOT OBSCURED</td>\n",
       "      <td>NORMAL</td>\n",
       "    </tr>\n",
       "    <tr>\n",
       "      <th>2</th>\n",
       "      <td>DRIVER</td>\n",
       "      <td>9579.0</td>\n",
       "      <td>NaN</td>\n",
       "      <td>NaN</td>\n",
       "      <td>X</td>\n",
       "      <td>NaN</td>\n",
       "      <td>USAGE UNKNOWN</td>\n",
       "      <td>DEPLOYMENT UNKNOWN</td>\n",
       "      <td>NONE</td>\n",
       "      <td>NO INDICATION OF INJURY</td>\n",
       "      <td>IMPROPER BACKING</td>\n",
       "      <td>UNKNOWN</td>\n",
       "      <td>UNKNOWN</td>\n",
       "    </tr>\n",
       "    <tr>\n",
       "      <th>3</th>\n",
       "      <td>DRIVER</td>\n",
       "      <td>9598.0</td>\n",
       "      <td>NaN</td>\n",
       "      <td>NaN</td>\n",
       "      <td>X</td>\n",
       "      <td>NaN</td>\n",
       "      <td>USAGE UNKNOWN</td>\n",
       "      <td>DEPLOYMENT UNKNOWN</td>\n",
       "      <td>UNKNOWN</td>\n",
       "      <td>NO INDICATION OF INJURY</td>\n",
       "      <td>UNKNOWN</td>\n",
       "      <td>UNKNOWN</td>\n",
       "      <td>UNKNOWN</td>\n",
       "    </tr>\n",
       "    <tr>\n",
       "      <th>4</th>\n",
       "      <td>DRIVER</td>\n",
       "      <td>9600.0</td>\n",
       "      <td>NaN</td>\n",
       "      <td>NaN</td>\n",
       "      <td>X</td>\n",
       "      <td>NaN</td>\n",
       "      <td>USAGE UNKNOWN</td>\n",
       "      <td>DEPLOYMENT UNKNOWN</td>\n",
       "      <td>UNKNOWN</td>\n",
       "      <td>NO INDICATION OF INJURY</td>\n",
       "      <td>UNKNOWN</td>\n",
       "      <td>UNKNOWN</td>\n",
       "      <td>UNKNOWN</td>\n",
       "    </tr>\n",
       "  </tbody>\n",
       "</table>\n",
       "</div>"
      ],
      "text/plain": [
       "  PERSON_TYPE  VEHICLE_ID     CITY STATE SEX   AGE  SAFETY_EQUIPMENT  \\\n",
       "0      DRIVER    834816.0  CHICAGO    IL   M  25.0      NONE PRESENT   \n",
       "1      DRIVER    827212.0  CHICAGO    IL   M  37.0  SAFETY BELT USED   \n",
       "2      DRIVER      9579.0      NaN   NaN   X   NaN     USAGE UNKNOWN   \n",
       "3      DRIVER      9598.0      NaN   NaN   X   NaN     USAGE UNKNOWN   \n",
       "4      DRIVER      9600.0      NaN   NaN   X   NaN     USAGE UNKNOWN   \n",
       "\n",
       "      AIRBAG_DEPLOYED EJECTION    INJURY_CLASSIFICATION     DRIVER_ACTION  \\\n",
       "0  DEPLOYMENT UNKNOWN     NONE  NO INDICATION OF INJURY           UNKNOWN   \n",
       "1      DID NOT DEPLOY     NONE  NO INDICATION OF INJURY              NONE   \n",
       "2  DEPLOYMENT UNKNOWN     NONE  NO INDICATION OF INJURY  IMPROPER BACKING   \n",
       "3  DEPLOYMENT UNKNOWN  UNKNOWN  NO INDICATION OF INJURY           UNKNOWN   \n",
       "4  DEPLOYMENT UNKNOWN  UNKNOWN  NO INDICATION OF INJURY           UNKNOWN   \n",
       "\n",
       "  DRIVER_VISION PHYSICAL_CONDITION  \n",
       "0       UNKNOWN            UNKNOWN  \n",
       "1  NOT OBSCURED             NORMAL  \n",
       "2       UNKNOWN            UNKNOWN  \n",
       "3       UNKNOWN            UNKNOWN  \n",
       "4       UNKNOWN            UNKNOWN  "
      ]
     },
     "execution_count": 13,
     "metadata": {},
     "output_type": "execute_result"
    }
   ],
   "source": [
    "columns_to_drop2 = ['BAC_RESULT','PERSON_ID', 'CRASH_DATE', 'CRASH_RECORD_ID']\n",
    "people_dropped = people_cleaned.drop(columns_to_drop2, axis = 1)\n",
    "people_dropped.head()"
   ]
  },
  {
   "cell_type": "code",
   "execution_count": 14,
   "id": "be659c70-558c-4f96-9225-6fc8b3437aed",
   "metadata": {},
   "outputs": [
    {
     "data": {
      "text/plain": [
       "(1901033, 13)"
      ]
     },
     "execution_count": 14,
     "metadata": {},
     "output_type": "execute_result"
    }
   ],
   "source": [
    "people_dropped.shape"
   ]
  },
  {
   "cell_type": "code",
   "execution_count": 15,
   "id": "0b6c94aa-63fe-4f80-9890-0dfd0d43d59e",
   "metadata": {},
   "outputs": [
    {
     "data": {
      "text/html": [
       "<div>\n",
       "<style scoped>\n",
       "    .dataframe tbody tr th:only-of-type {\n",
       "        vertical-align: middle;\n",
       "    }\n",
       "\n",
       "    .dataframe tbody tr th {\n",
       "        vertical-align: top;\n",
       "    }\n",
       "\n",
       "    .dataframe thead th {\n",
       "        text-align: right;\n",
       "    }\n",
       "</style>\n",
       "<table border=\"1\" class=\"dataframe\">\n",
       "  <thead>\n",
       "    <tr style=\"text-align: right;\">\n",
       "      <th></th>\n",
       "      <th>PERSON_TYPE</th>\n",
       "      <th>VEHICLE_ID_x</th>\n",
       "      <th>CITY</th>\n",
       "      <th>STATE</th>\n",
       "      <th>SEX</th>\n",
       "      <th>AGE</th>\n",
       "      <th>SAFETY_EQUIPMENT</th>\n",
       "      <th>AIRBAG_DEPLOYED</th>\n",
       "      <th>EJECTION</th>\n",
       "      <th>INJURY_CLASSIFICATION</th>\n",
       "      <th>...</th>\n",
       "      <th>VEHICLE_ID_y</th>\n",
       "      <th>MAKE</th>\n",
       "      <th>MODEL</th>\n",
       "      <th>LIC_PLATE_STATE</th>\n",
       "      <th>VEHICLE_YEAR</th>\n",
       "      <th>VEHICLE_DEFECT</th>\n",
       "      <th>VEHICLE_TYPE</th>\n",
       "      <th>VEHICLE_USE</th>\n",
       "      <th>TRAVEL_DIRECTION</th>\n",
       "      <th>MANEUVER</th>\n",
       "    </tr>\n",
       "  </thead>\n",
       "  <tbody>\n",
       "    <tr>\n",
       "      <th>0</th>\n",
       "      <td>DRIVER</td>\n",
       "      <td>834816.0</td>\n",
       "      <td>CHICAGO</td>\n",
       "      <td>IL</td>\n",
       "      <td>M</td>\n",
       "      <td>25.0</td>\n",
       "      <td>NONE PRESENT</td>\n",
       "      <td>DEPLOYMENT UNKNOWN</td>\n",
       "      <td>NONE</td>\n",
       "      <td>NO INDICATION OF INJURY</td>\n",
       "      <td>...</td>\n",
       "      <td>792264.0</td>\n",
       "      <td>TOYOTA MOTOR COMPANY, LTD.</td>\n",
       "      <td>TOYOTA</td>\n",
       "      <td>IL</td>\n",
       "      <td>2019.0</td>\n",
       "      <td>NONE</td>\n",
       "      <td>PASSENGER</td>\n",
       "      <td>PERSONAL</td>\n",
       "      <td>N</td>\n",
       "      <td>TURNING RIGHT</td>\n",
       "    </tr>\n",
       "    <tr>\n",
       "      <th>1</th>\n",
       "      <td>DRIVER</td>\n",
       "      <td>827212.0</td>\n",
       "      <td>CHICAGO</td>\n",
       "      <td>IL</td>\n",
       "      <td>M</td>\n",
       "      <td>37.0</td>\n",
       "      <td>SAFETY BELT USED</td>\n",
       "      <td>DID NOT DEPLOY</td>\n",
       "      <td>NONE</td>\n",
       "      <td>NO INDICATION OF INJURY</td>\n",
       "      <td>...</td>\n",
       "      <td>785230.0</td>\n",
       "      <td>LEXUS</td>\n",
       "      <td>LEXUS - 300</td>\n",
       "      <td>IL</td>\n",
       "      <td>2019.0</td>\n",
       "      <td>NONE</td>\n",
       "      <td>PASSENGER</td>\n",
       "      <td>PERSONAL</td>\n",
       "      <td>E</td>\n",
       "      <td>STRAIGHT AHEAD</td>\n",
       "    </tr>\n",
       "    <tr>\n",
       "      <th>2</th>\n",
       "      <td>DRIVER</td>\n",
       "      <td>9579.0</td>\n",
       "      <td>NaN</td>\n",
       "      <td>NaN</td>\n",
       "      <td>X</td>\n",
       "      <td>NaN</td>\n",
       "      <td>USAGE UNKNOWN</td>\n",
       "      <td>DEPLOYMENT UNKNOWN</td>\n",
       "      <td>NONE</td>\n",
       "      <td>NO INDICATION OF INJURY</td>\n",
       "      <td>...</td>\n",
       "      <td>9156.0</td>\n",
       "      <td>NISSAN</td>\n",
       "      <td>NISSAN ALTIMA</td>\n",
       "      <td>IL</td>\n",
       "      <td>2013.0</td>\n",
       "      <td>NONE</td>\n",
       "      <td>PASSENGER</td>\n",
       "      <td>NOT IN USE</td>\n",
       "      <td>S</td>\n",
       "      <td>PARKED</td>\n",
       "    </tr>\n",
       "    <tr>\n",
       "      <th>3</th>\n",
       "      <td>DRIVER</td>\n",
       "      <td>9598.0</td>\n",
       "      <td>NaN</td>\n",
       "      <td>NaN</td>\n",
       "      <td>X</td>\n",
       "      <td>NaN</td>\n",
       "      <td>USAGE UNKNOWN</td>\n",
       "      <td>DEPLOYMENT UNKNOWN</td>\n",
       "      <td>UNKNOWN</td>\n",
       "      <td>NO INDICATION OF INJURY</td>\n",
       "      <td>...</td>\n",
       "      <td>9177.0</td>\n",
       "      <td>TOYOTA MOTOR COMPANY, LTD.</td>\n",
       "      <td>CAMRY</td>\n",
       "      <td>IL</td>\n",
       "      <td>2010.0</td>\n",
       "      <td>NONE</td>\n",
       "      <td>PASSENGER</td>\n",
       "      <td>TAXI/FOR HIRE</td>\n",
       "      <td>N</td>\n",
       "      <td>OTHER</td>\n",
       "    </tr>\n",
       "    <tr>\n",
       "      <th>4</th>\n",
       "      <td>DRIVER</td>\n",
       "      <td>9600.0</td>\n",
       "      <td>NaN</td>\n",
       "      <td>NaN</td>\n",
       "      <td>X</td>\n",
       "      <td>NaN</td>\n",
       "      <td>USAGE UNKNOWN</td>\n",
       "      <td>DEPLOYMENT UNKNOWN</td>\n",
       "      <td>UNKNOWN</td>\n",
       "      <td>NO INDICATION OF INJURY</td>\n",
       "      <td>...</td>\n",
       "      <td>9180.0</td>\n",
       "      <td>SATURN</td>\n",
       "      <td>Ion</td>\n",
       "      <td>NaN</td>\n",
       "      <td>2033.0</td>\n",
       "      <td>NONE</td>\n",
       "      <td>PASSENGER</td>\n",
       "      <td>PERSONAL</td>\n",
       "      <td>W</td>\n",
       "      <td>STRAIGHT AHEAD</td>\n",
       "    </tr>\n",
       "  </tbody>\n",
       "</table>\n",
       "<p>5 rows × 26 columns</p>\n",
       "</div>"
      ],
      "text/plain": [
       "  PERSON_TYPE  VEHICLE_ID_x     CITY STATE SEX   AGE  SAFETY_EQUIPMENT  \\\n",
       "0      DRIVER      834816.0  CHICAGO    IL   M  25.0      NONE PRESENT   \n",
       "1      DRIVER      827212.0  CHICAGO    IL   M  37.0  SAFETY BELT USED   \n",
       "2      DRIVER        9579.0      NaN   NaN   X   NaN     USAGE UNKNOWN   \n",
       "3      DRIVER        9598.0      NaN   NaN   X   NaN     USAGE UNKNOWN   \n",
       "4      DRIVER        9600.0      NaN   NaN   X   NaN     USAGE UNKNOWN   \n",
       "\n",
       "      AIRBAG_DEPLOYED EJECTION    INJURY_CLASSIFICATION  ... VEHICLE_ID_y  \\\n",
       "0  DEPLOYMENT UNKNOWN     NONE  NO INDICATION OF INJURY  ...     792264.0   \n",
       "1      DID NOT DEPLOY     NONE  NO INDICATION OF INJURY  ...     785230.0   \n",
       "2  DEPLOYMENT UNKNOWN     NONE  NO INDICATION OF INJURY  ...       9156.0   \n",
       "3  DEPLOYMENT UNKNOWN  UNKNOWN  NO INDICATION OF INJURY  ...       9177.0   \n",
       "4  DEPLOYMENT UNKNOWN  UNKNOWN  NO INDICATION OF INJURY  ...       9180.0   \n",
       "\n",
       "                         MAKE          MODEL  LIC_PLATE_STATE VEHICLE_YEAR  \\\n",
       "0  TOYOTA MOTOR COMPANY, LTD.         TOYOTA               IL       2019.0   \n",
       "1                       LEXUS    LEXUS - 300               IL       2019.0   \n",
       "2                      NISSAN  NISSAN ALTIMA               IL       2013.0   \n",
       "3  TOYOTA MOTOR COMPANY, LTD.          CAMRY               IL       2010.0   \n",
       "4                      SATURN            Ion              NaN       2033.0   \n",
       "\n",
       "  VEHICLE_DEFECT  VEHICLE_TYPE    VEHICLE_USE TRAVEL_DIRECTION        MANEUVER  \n",
       "0           NONE     PASSENGER       PERSONAL                N   TURNING RIGHT  \n",
       "1           NONE     PASSENGER       PERSONAL                E  STRAIGHT AHEAD  \n",
       "2           NONE     PASSENGER     NOT IN USE                S          PARKED  \n",
       "3           NONE     PASSENGER  TAXI/FOR HIRE                N           OTHER  \n",
       "4           NONE     PASSENGER       PERSONAL                W  STRAIGHT AHEAD  \n",
       "\n",
       "[5 rows x 26 columns]"
      ]
     },
     "execution_count": 15,
     "metadata": {},
     "output_type": "execute_result"
    }
   ],
   "source": [
    "merged_df = pd.merge(people_dropped, vehicle_dropped, left_on='VEHICLE_ID', right_on='CRASH_UNIT_ID')\n",
    "merged_df.head()"
   ]
  },
  {
   "cell_type": "code",
   "execution_count": 16,
   "id": "6dfb427b-c0f4-49e1-8d4d-f52a2ebc5dd0",
   "metadata": {},
   "outputs": [
    {
     "data": {
      "text/plain": [
       "(1739998, 26)"
      ]
     },
     "execution_count": 16,
     "metadata": {},
     "output_type": "execute_result"
    }
   ],
   "source": [
    "merged_df.shape"
   ]
  },
  {
   "cell_type": "code",
   "execution_count": 17,
   "id": "1b16f4fd-ba0e-4266-8bbf-11e6d55b83f8",
   "metadata": {},
   "outputs": [
    {
     "data": {
      "text/plain": [
       "PERSON_TYPE                   0\n",
       "VEHICLE_ID_x                  0\n",
       "CITY                     479301\n",
       "STATE                    459557\n",
       "SEX                       28692\n",
       "AGE                      513022\n",
       "SAFETY_EQUIPMENT            308\n",
       "AIRBAG_DEPLOYED             310\n",
       "EJECTION                    313\n",
       "INJURY_CLASSIFICATION       372\n",
       "DRIVER_ACTION            359050\n",
       "DRIVER_VISION            359048\n",
       "PHYSICAL_CONDITION       359049\n",
       "CRASH_UNIT_ID                 0\n",
       "CRASH_DATE                    0\n",
       "UNIT_TYPE                  2260\n",
       "VEHICLE_ID_y              39686\n",
       "MAKE                      39691\n",
       "MODEL                     39835\n",
       "LIC_PLATE_STATE          195286\n",
       "VEHICLE_YEAR             312175\n",
       "VEHICLE_DEFECT            39686\n",
       "VEHICLE_TYPE              39686\n",
       "VEHICLE_USE               39686\n",
       "TRAVEL_DIRECTION          39686\n",
       "MANEUVER                  39686\n",
       "dtype: int64"
      ]
     },
     "execution_count": 17,
     "metadata": {},
     "output_type": "execute_result"
    }
   ],
   "source": [
    "merged_df.isnull().sum()"
   ]
  },
  {
   "cell_type": "code",
   "execution_count": 18,
   "id": "370a48d9-9ac5-4898-98d7-19ace1175d50",
   "metadata": {},
   "outputs": [
    {
     "name": "stdout",
     "output_type": "stream",
     "text": [
      "PERSON_TYPE               object\n",
      "VEHICLE_ID_x             float64\n",
      "CITY                      object\n",
      "STATE                     object\n",
      "SEX                       object\n",
      "AGE                      float64\n",
      "SAFETY_EQUIPMENT          object\n",
      "AIRBAG_DEPLOYED           object\n",
      "EJECTION                  object\n",
      "INJURY_CLASSIFICATION     object\n",
      "DRIVER_ACTION             object\n",
      "DRIVER_VISION             object\n",
      "PHYSICAL_CONDITION        object\n",
      "CRASH_UNIT_ID              int64\n",
      "CRASH_DATE                object\n",
      "UNIT_TYPE                 object\n",
      "VEHICLE_ID_y             float64\n",
      "MAKE                      object\n",
      "MODEL                     object\n",
      "LIC_PLATE_STATE           object\n",
      "VEHICLE_YEAR             float64\n",
      "VEHICLE_DEFECT            object\n",
      "VEHICLE_TYPE              object\n",
      "VEHICLE_USE               object\n",
      "TRAVEL_DIRECTION          object\n",
      "MANEUVER                  object\n",
      "dtype: object\n"
     ]
    }
   ],
   "source": [
    "print(merged_df.dtypes)"
   ]
  },
  {
   "cell_type": "code",
   "execution_count": 21,
   "id": "cac4eb45-ea7f-4ac0-b933-4bcc83b3c533",
   "metadata": {},
   "outputs": [],
   "source": [
    "fill_values = {}\n",
    "\n",
    "for column in merged_df.columns:\n",
    "    if merged_df[column].dtype in ['float64', 'int64']:  # Numerical columns\n",
    "        fill_values[column] = merged_df[column].mean()\n",
    "    else:  # Categorical columns\n",
    "        fill_values[column] = merged_df[column].mode()[0]  # Mode returns a Series, so use [0] to get the value\n",
    "\n",
    "# Fill missing values using the dictionary\n",
    "merged_df.fillna(fill_values, inplace=True)\n"
   ]
  },
  {
   "cell_type": "code",
   "execution_count": 22,
   "id": "5568a8e5-83f8-4d54-ae67-4ae5482532d7",
   "metadata": {},
   "outputs": [
    {
     "data": {
      "text/plain": [
       "PERSON_TYPE              0\n",
       "VEHICLE_ID_x             0\n",
       "CITY                     0\n",
       "STATE                    0\n",
       "SEX                      0\n",
       "AGE                      0\n",
       "SAFETY_EQUIPMENT         0\n",
       "AIRBAG_DEPLOYED          0\n",
       "EJECTION                 0\n",
       "INJURY_CLASSIFICATION    0\n",
       "DRIVER_ACTION            0\n",
       "DRIVER_VISION            0\n",
       "PHYSICAL_CONDITION       0\n",
       "CRASH_UNIT_ID            0\n",
       "CRASH_DATE               0\n",
       "UNIT_TYPE                0\n",
       "VEHICLE_ID_y             0\n",
       "MAKE                     0\n",
       "MODEL                    0\n",
       "LIC_PLATE_STATE          0\n",
       "VEHICLE_YEAR             0\n",
       "VEHICLE_DEFECT           0\n",
       "VEHICLE_TYPE             0\n",
       "VEHICLE_USE              0\n",
       "TRAVEL_DIRECTION         0\n",
       "MANEUVER                 0\n",
       "dtype: int64"
      ]
     },
     "execution_count": 22,
     "metadata": {},
     "output_type": "execute_result"
    }
   ],
   "source": [
    "merged_df.isnull().sum()"
   ]
  },
  {
   "cell_type": "code",
   "execution_count": 27,
   "id": "054cd40d-0f92-477a-9812-39d1c0e791f2",
   "metadata": {},
   "outputs": [],
   "source": [
    "# def treat_outliers_iqr(merged_df, columns):\n",
    "#     for column in columns:\n",
    "#         # Calculate Q1 (25th percentile) and Q3 (75th percentile)\n",
    "#         Q1 = df[column].quantile(0.25)\n",
    "#         Q3 = df[column].quantile(0.75)\n",
    "#         IQR = Q3 - Q1\n",
    "\n",
    "#         # Define lower and upper bounds for outliers\n",
    "#         lower_bound = Q1 - 1.5 * IQR\n",
    "#         upper_bound = Q3 + 1.5 * IQR\n",
    "\n",
    "#         # Treat outliers by capping them to the bounds\n",
    "#         df[column] = np.where(df[column] < lower_bound, lower_bound, df[column])\n",
    "#         df[column] = np.where(df[column] > upper_bound, upper_bound, df[column])\n",
    "\n",
    "#     return df\n",
    "\n",
    "# # Columns to check for outliers\n",
    "# columns_to_check = ['Age', 'Year']\n",
    "\n",
    "# # Treat outliers in the specified columns\n",
    "# df = treat_outliers_iqr(df, columns_to_check)\n",
    "\n",
    "from scipy import stats\n",
    "import numpy as np\n",
    "\n",
    "def treat_outliers_zscore(df, columns, threshold=3):\n",
    "    for column in columns:\n",
    "        z_scores = np.abs(stats.zscore(df[column]))\n",
    "        df[column] = np.where(z_scores > threshold, df[column].median(), df[column])  # Replace outliers with median\n",
    "    return df\n",
    "columns_to_check = ['AGE', 'VEHICLE_YEAR']\n",
    "merged_df = treat_outliers_zscore(merged_df, columns_to_check)\n"
   ]
  },
  {
   "cell_type": "code",
   "execution_count": 59,
   "id": "702b2816-89be-462a-b482-51b43f967f32",
   "metadata": {},
   "outputs": [
    {
     "data": {
      "text/plain": [
       "INJURY_CLASSIFICATION\n",
       "NONINCAPACITATING INJURY    0.040268\n",
       "REPORTED, NOT EVIDENT       0.026660\n",
       "INCAPACITATING INJURY       0.006551\n",
       "FATAL                       0.000393\n",
       "Name: proportion, dtype: float64"
      ]
     },
     "execution_count": 59,
     "metadata": {},
     "output_type": "execute_result"
    }
   ],
   "source": [
    "counts = merged_df['INJURY_CLASSIFICATION'].value_counts(normalize=True).drop('NO INDICATION OF INJURY')\n",
    "counts"
   ]
  },
  {
   "cell_type": "code",
   "execution_count": 63,
   "id": "531adf69-844b-40a2-a6e9-5f08ce951b8d",
   "metadata": {},
   "outputs": [
    {
     "data": {
      "text/plain": [
       "<Axes: ylabel='INJURY_CLASSIFICATION'>"
      ]
     },
     "execution_count": 63,
     "metadata": {},
     "output_type": "execute_result"
    },
    {
     "data": {
      "image/png": "[encoded data removed]",
      "text/plain": [
       "<Figure size 640x480 with 1 Axes>"
      ]
     },
     "metadata": {},
     "output_type": "display_data"
    }
   ],
   "source": [
    "import matplotlib.pyplot as plt\n",
    "import seaborn as sns\n",
    "percentage_counts = counts*100\n",
    "percentage_counts.plot.barh()\n"
   ]
  },
  {
   "cell_type": "code",
   "execution_count": null,
   "id": "218d9ed1-6c76-4439-96d8-3448ed82cf11",
   "metadata": {},
   "outputs": [],
   "source": []
  },
  {
   "cell_type": "code",
   "execution_count": null,
   "id": "70f82003-0fd8-4049-bb0b-c5a0f9ef223a",
   "metadata": {},
   "outputs": [],
   "source": []
  },
  {
   "cell_type": "code",
   "execution_count": null,
   "id": "c8210039-2c7e-496f-a3eb-c52128ea15a1",
   "metadata": {},
   "outputs": [],
   "source": []
  }
 ],
 "metadata": {
  "kernelspec": {
   "display_name": "Python 3 (ipykernel)",
   "language": "python",
   "name": "python3"
  },
  "language_info": {
   "codemirror_mode": {
    "name": "ipython",
    "version": 3
   },
   "file_extension": ".py",
   "mimetype": "text/x-python",
   "name": "python",
   "nbconvert_exporter": "python",
   "pygments_lexer": "ipython3",
   "version": "3.10.14"
  }
 },
 "nbformat": 4,
 "nbformat_minor": 5
}
